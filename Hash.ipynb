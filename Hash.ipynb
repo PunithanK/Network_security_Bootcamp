{
  "nbformat": 4,
  "nbformat_minor": 0,
  "metadata": {
    "colab": {
      "name": "Hash.ipynb",
      "provenance": [],
      "collapsed_sections": []
    },
    "kernelspec": {
      "name": "python3",
      "display_name": "Python 3"
    },
    "language_info": {
      "name": "python"
    }
  },
  "cells": [
    {
      "cell_type": "code",
      "metadata": {
        "colab": {
          "base_uri": "https://localhost:8080/"
        },
        "id": "3VOzh7MJwPao",
        "outputId": "df6f421d-2d89-40ea-859e-7774f20eda4b"
      },
      "source": [
        "import hashlib\n",
        "\n",
        "def main(): \n",
        "\n",
        "    text = \"harsh!\"\n",
        "    textUtf8 = text.encode(\"utf-8\")\n",
        "\n",
        "    hash = hashlib.md5( textUtf8 )\n",
        "    hexa = hash.hexdigest()\n",
        "\n",
        "    print ( hexa )\n",
        "\n",
        "    return\n",
        "\n",
        "main()"
      ],
      "execution_count": 2,
      "outputs": [
        {
          "output_type": "stream",
          "text": [
            "f9f3886cdf39de13738bbbc487e925b4\n"
          ],
          "name": "stdout"
        }
      ]
    },
    {
      "cell_type": "code",
      "metadata": {
        "id": "iuw9eFibwxZs"
      },
      "source": [
        ""
      ],
      "execution_count": null,
      "outputs": []
    }
  ]
}